{
 "cells": [
  {
   "cell_type": "code",
   "execution_count": 3,
   "id": "7bd66a78",
   "metadata": {},
   "outputs": [],
   "source": [
    "from langchain_community.retrievers import WikipediaRetriever\n",
    "retriever =  WikipediaRetriever(top_k_results=2, lang='en')"
   ]
  },
  {
   "cell_type": "code",
   "execution_count": 4,
   "id": "12425c23",
   "metadata": {},
   "outputs": [],
   "source": [
    "# query\n",
    "query = 'What is geopolitical history of India and Pakistan from the perspective of chinese?'\n",
    "# get revelent wikipedia docs\n",
    "docs = retriever.invoke(query)"
   ]
  },
  {
   "cell_type": "code",
   "execution_count": 6,
   "id": "3287bd0e",
   "metadata": {},
   "outputs": [
    {
     "name": "stdout",
     "output_type": "stream",
     "text": [
      "\n",
      "--- Result 1---\n",
      "Content:\n",
      "The history of the Islamic Republic of Pakistan began on 14 August 1947 when the country came into being in the form of the Dominion of Pakistan within the British Commonwealth as the result of the Pakistan Movement and the partition of India. While the history of the Pakistani nation according to the Pakistan government's official chronology started with the Islamic rule over Indian subcontinent by Muhammad ibn al-Qasim which reached its zenith during Mughal era. In 1947, Pakistan consisted of West Pakistan (today's Pakistan) and East Pakistan (today's Bangladesh). The President of All-India Muslim League and later the Pakistan Muslim League, Muhammad Ali Jinnah became Governor-General while the secretary general of the Muslim League, Liaquat Ali Khan became Prime Minister. The constitution of 1956 made Pakistan an Islamic democratic country.\n",
      "Pakistan faced a civil war and Indian military intervention in 1971 resulting in the secession of East Pakistan as the new country of Bangladesh. The country has also unresolved territorial disputes with India, resulting in four conflicts. Pakistan was closely tied to the United States in the Cold War. In the Afghan–Soviet War, it supported the Afghan mujahideen and played a vital role in the defeat of Soviet Forces and forced them to withdraw from Afghanistan. The country continues to face challenging problems including terrorism, poverty, illiteracy, corruption and political instability. Terrorism due to war on terror damaged the country's economy and infrastructure to a great extent from 2001 to 2009 but Pakistan is once again developing.\n",
      "Pakistan is a nuclear power as well as a declared nuclear-weapon state, having conducted six nuclear tests in response to five nuclear tests of their rival Republic of India in May 1998. The first five tests were conducted on 28 May and the sixth one on 30 May. With this status, Pakistan is seventh in world, second in South Asia and the only country in the Islamic World. Pakistan also has the sixth-largest standing armed forces in the world and is spending a major amount of its budget on defense. Pakistan is the founding member of the OIC, the SAARC and the Islamic Military Counter Terrorism Coalition as well as a member of many international organisations including the UN, the Shanghai Cooperation Organisation, the Commonwealth of Nations, the ARF, the Economic Cooperation Organization and many more.\n",
      "Pakistan is a middle power which is ranked among the emerging and growth-leading economies of the world and is backed by one of the world's largest and fastest-growing middle class. It has a semi-industrialized economy with a well-integrated agriculture sector. It is identified as one of the Next Eleven, a group of eleven countries that, along with the BRICs, have a high potential to become the world's largest economies in the 21st century. Although Pakistan faced a severe economic crisis from 2022 to 2024, geographically Pakistan is an important country and a source of contact between Middle East, Central Asia, South Asia and East Asia.\n",
      "\n",
      "\n",
      "== Pakistan Movement ==\n",
      "\n",
      "Important leaders in the Muslim League highlighted that Pakistan would be a \"New Madinah\", in other words the second Islamic state established after the Prophet Muhammad's creation of an Islamic state of Madinah which was later developed into Rashidun Caliphate. Pakistan was popularly envisaged as an Islamic utopia, a successor to the defunct Islamic Caliphate and a leader and protector of the entire Islamic world. Islamic scholars debated over whether it was possible for the proposed Pakistan to truly become an Islamic state.\n",
      "Another motive and reason behind the Pakistan Movement and Two Nation Theory is the ideology of pre-partition Muslims and leaders of Muslim League including Muhammad Ali Jinnah and Allama Iqbal is that, to re-establish the Muslim rule in South Asia. Once Jinnah said in his speech:\n",
      "\n",
      "The Pakistan Movement started when the first Muslim (Muhammad bin Qasim) put his foot on t...\n",
      "\n",
      "--- Result 2---\n",
      "Content:\n",
      "The Islamic Republic of Pakistan emerged as an independent country through the partition of India in August 1947 and was admitted as a United Nations member state in September 1947. It is currently the second-most populous country within the Muslim world, and is also the only Muslim-majority country openly in possession of nuclear weapons. The country shares land borders with India, Iran, Afghanistan, and China.\n",
      "The country has extensive trade relations with the European Union and with several countries globally. As of 2023, Pakistan does not recognize two other United Nations member states (Armenia and Israel) and its ties with India remain frozen since 2019.\n",
      "From a geopolitical perspective, Pakistan's location is strategically important as it is situated at the crossroads of major maritime and land transit routes between the Middle East and South Asia, while also serving as a bridge between the Arabian Sea and the energy-rich regions of Central Asia. Since the partition of India, the Kashmir conflict has defined the India–Pakistan relationship: the two countries claim each other's zones of control in Kashmir, but are separated by a ceasefire boundary known as the Line of Control. Pakistan has close bilateral ties with China and the Muslim world, including Turkey, Saudi Arabia, and the Gulf Arab countries. As a part of the First World during the Cold War, Pakistan closely cooperated with the United States to combat the global influence of the Soviet Union, though this relationship later became strained over the course of the War on Terror. Pakistan is an active member of the Commonwealth of Nations, Organization of Islamic Cooperation, and the Shanghai Cooperation Organization.\n",
      "\n",
      "\n",
      "== Foreign policy of Pakistan ==\n",
      "Pakistan's foreign policy seeks the 'promotion of Pakistan as a dynamic, progressive, moderate, and democratic Islamic country; developing friendly relations with all countries of the world, especially major powers and immediate neighbors; consolidating our commercial and economic cooperation with international community.\"\n",
      "Pakistan's foreign policy is meant to formalize and define its interactions with foreign nations and standardize interactions with organizations, corporations and individual citizens. Backed by the semi-agricultural and semi-industrialized economy, Pakistan is the 44th largest (nominal GDP, 2025) and 26th largest (purchasing) economic power and 7th largest military in the world in terms of active personnel, with a defense budget of US$10.2 billion (2024), 2.7% of its GDP (2024). The Foreign Minister of Pakistan is the official charged with state-to-state diplomacy, although the Prime minister maintains an ultimate authority over foreign policy. The state foreign policy includes defining the national interest, as well as the economic interest and strategies chosen both to safeguard that and to achieve its policy goals. Following the general election held in May 2013, Tariq Fatimi and NSA Sartaj Aziz were designated as advisers to the Prime Minister on foreign and strategic policies. After the dismissal of Nawaz Sharif's government in July 2017, Khawaja Muhammad Asif held the portfolio of foreign minister under the premiership of Shahid Khaqan Abbasi. After the victory of Imran Khan Niazi in the Pakistan General Elections 2018, Shah Mehmood Qureshi was named the Minister of Foreign Affairs. Subsequently, Bilawal Bhutto Zardari became foreign minister after the political crisis-a position previously held by his grandfather, Zulfikar Ali Bhutto, and Hina Rabbani Khar.\n",
      "\n",
      "\n",
      "=== Muhammad Ali Jinnah's Vision ===\n",
      "In 1947, Muhammad Ali Jinnah, founder of the state of Pakistan, clearly described the principles and objectives of Pakistan's foreign policy in a broadcast message, which is featured prominently in a quotation on the homepage of Pakistan's Ministry of Foreign Affairs website: \"The foundation of our foreign policy is friendship with all nations across the globe.\"\n",
      "On 15 August 1947, outlining the foreig...\n"
     ]
    }
   ],
   "source": [
    "for i, doc in enumerate(docs):\n",
    "    print(f'\\n--- Result {i+1}---')\n",
    "    print(f\"Content:\\n{doc.page_content}...\")"
   ]
  }
 ],
 "metadata": {
  "kernelspec": {
   "display_name": "venv",
   "language": "python",
   "name": "python3"
  },
  "language_info": {
   "codemirror_mode": {
    "name": "ipython",
    "version": 3
   },
   "file_extension": ".py",
   "mimetype": "text/x-python",
   "name": "python",
   "nbconvert_exporter": "python",
   "pygments_lexer": "ipython3",
   "version": "3.13.5"
  }
 },
 "nbformat": 4,
 "nbformat_minor": 5
}
