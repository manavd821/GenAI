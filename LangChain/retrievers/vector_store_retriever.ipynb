{
 "cells": [
  {
   "cell_type": "code",
   "execution_count": 1,
   "id": "0a8dbce0",
   "metadata": {},
   "outputs": [
    {
     "name": "stderr",
     "output_type": "stream",
     "text": [
      "c:\\Users\\MANAV\\OneDrive\\Desktop\\Manav Code\\code\\Gen AI\\python\\venv\\Lib\\site-packages\\tqdm\\auto.py:21: TqdmWarning: IProgress not found. Please update jupyter and ipywidgets. See https://ipywidgets.readthedocs.io/en/stable/user_install.html\n",
      "  from .autonotebook import tqdm as notebook_tqdm\n"
     ]
    }
   ],
   "source": [
    "from langchain_chroma import Chroma\n",
    "from langchain_core.documents import Document\n",
    "from langchain_google_genai import GoogleGenerativeAIEmbeddings\n",
    "from dotenv import load_dotenv\n",
    "load_dotenv()\n",
    "\n",
    "model_name = 'text-embedding-004'\n",
    "embbed_model = GoogleGenerativeAIEmbeddings(model= f'models/{model_name}')\n"
   ]
  },
  {
   "cell_type": "code",
   "execution_count": 7,
   "id": "517a9db9",
   "metadata": {},
   "outputs": [
    {
     "data": {
      "text/plain": [
       "['1', '2', '3', '4', '5']"
      ]
     },
     "execution_count": 7,
     "metadata": {},
     "output_type": "execute_result"
    }
   ],
   "source": [
    "doc1 = Document(\n",
    "    page_content='Virat Kohli is a consistent and aggressive batsman, known as the modern-day great.',\n",
    "    metadata={'team': 'Royal Challengers Bangalore'}\n",
    ")\n",
    "\n",
    "doc2 = Document(\n",
    "    page_content='MS Dhoni is a legendary finisher and ex-captain known for his calm demeanor.',\n",
    "    metadata={'team': 'Chennai Super Kings'}\n",
    ")\n",
    "\n",
    "doc3 = Document(\n",
    "    page_content='Rohit Sharma is an elegant opener with multiple double centuries in ODIs.',\n",
    "    metadata={'team': 'Mumbai Indians'}\n",
    ")\n",
    "\n",
    "doc4 = Document(\n",
    "    page_content='Ben Stokes is a fiery all-rounder famous for match-winning performances.',\n",
    "    metadata={'team': 'Rajasthan Royals'}\n",
    ")\n",
    "\n",
    "doc5 = Document(\n",
    "    page_content='Rashid Khan is a top Afghan spinner with superb control in T20s.',\n",
    "    metadata={'team': 'Sunrisers Hyderabad'}\n",
    ")\n",
    "docs = [doc1, doc2, doc3, doc4, doc5]\n",
    "ids = ['1','2','3','4','5']\n",
    "vector_store = Chroma(\n",
    "    embedding_function= embbed_model,\n",
    "    persist_directory='my_chroma_db',\n",
    "    collection_name='cricker'\n",
    ")\n",
    "vector_store.add_documents(documents=docs, ids = ids)"
   ]
  },
  {
   "cell_type": "code",
   "execution_count": 8,
   "id": "a6e61d74",
   "metadata": {},
   "outputs": [],
   "source": [
    "# convert vector store into retriever\n",
    "retriever = vector_store.as_retriever( search_kwargs = {'k' : 2} )"
   ]
  },
  {
   "cell_type": "code",
   "execution_count": 11,
   "id": "d988aa6b",
   "metadata": {},
   "outputs": [
    {
     "name": "stdout",
     "output_type": "stream",
     "text": [
      "[Document(id='1', metadata={'team': 'Royal Challengers Bangalore'}, page_content='Virat Kohli is a consistent and aggressive batsman, known as the modern-day great.'), Document(id='3', metadata={'team': 'Mumbai Indians'}, page_content='Rohit Sharma is an elegant opener with multiple double centuries in ODIs.')]\n"
     ]
    }
   ],
   "source": [
    "query = 'Who is virat kohli?'\n",
    "results = retriever.invoke(query)\n",
    "print(results)"
   ]
  },
  {
   "cell_type": "code",
   "execution_count": 12,
   "id": "feaa73a2",
   "metadata": {},
   "outputs": [
    {
     "name": "stdout",
     "output_type": "stream",
     "text": [
      "\n",
      "---Result 1 ---\n",
      "Virat Kohli is a consistent and aggressive batsman, known as the modern-day great.\n",
      "\n",
      "---Result 2 ---\n",
      "Rohit Sharma is an elegant opener with multiple double centuries in ODIs.\n"
     ]
    }
   ],
   "source": [
    "for i, doc in enumerate(results):\n",
    "    print(f\"\\n---Result {i+1} ---\")\n",
    "    print(doc.page_content)"
   ]
  }
 ],
 "metadata": {
  "kernelspec": {
   "display_name": "venv",
   "language": "python",
   "name": "python3"
  },
  "language_info": {
   "codemirror_mode": {
    "name": "ipython",
    "version": 3
   },
   "file_extension": ".py",
   "mimetype": "text/x-python",
   "name": "python",
   "nbconvert_exporter": "python",
   "pygments_lexer": "ipython3",
   "version": "3.13.5"
  }
 },
 "nbformat": 4,
 "nbformat_minor": 5
}
