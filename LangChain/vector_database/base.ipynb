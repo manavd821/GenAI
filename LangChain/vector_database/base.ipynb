{
 "cells": [
  {
   "cell_type": "code",
   "execution_count": null,
   "id": "d5f7fdc7",
   "metadata": {},
   "outputs": [],
   "source": [
    "from langchain_google_genai import GoogleGenerativeAIEmbeddings\n",
    "from dotenv import load_dotenv\n",
    "load_dotenv()\n",
    "\n",
    "model_name = 'text-embedding-004'\n",
    "embbed_model = GoogleGenerativeAIEmbeddings(model= f'models/{model_name}')\n"
   ]
  },
  {
   "cell_type": "code",
   "execution_count": null,
   "id": "bd37f8fb",
   "metadata": {},
   "outputs": [],
   "source": [
    "from langchain.schema import Document\n",
    "\n",
    "doc1 = Document(\n",
    "    page_content='Virat Kohli is a consistent and aggressive batsman, known as the modern-day great.',\n",
    "    metadata={'team': 'Royal Challengers Bangalore'}\n",
    ")\n",
    "\n",
    "doc2 = Document(\n",
    "    page_content='MS Dhoni is a legendary finisher and ex-captain known for his calm demeanor.',\n",
    "    metadata={'team': 'Chennai Super Kings'}\n",
    ")\n",
    "\n",
    "doc3 = Document(\n",
    "    page_content='Rohit Sharma is an elegant opener with multiple double centuries in ODIs.',\n",
    "    metadata={'team': 'Mumbai Indians'}\n",
    ")\n",
    "\n",
    "doc4 = Document(\n",
    "    page_content='Ben Stokes is a fiery all-rounder famous for match-winning performances.',\n",
    "    metadata={'team': 'Rajasthan Royals'}\n",
    ")\n",
    "\n",
    "doc5 = Document(\n",
    "    page_content='Rashid Khan is a top Afghan spinner with superb control in T20s.',\n",
    "    metadata={'team': 'Sunrisers Hyderabad'}\n",
    ")"
   ]
  },
  {
   "cell_type": "code",
   "execution_count": null,
   "id": "0489ab2b",
   "metadata": {},
   "outputs": [],
   "source": [
    "docs = [doc1, doc2, doc3, doc4, doc5]\n",
    "ids = ['1','2','3','4','5']\n",
    "from langchain_chroma import Chroma\n",
    "vector_store = Chroma(\n",
    "    embedding_function= embbed_model,\n",
    "    persist_directory='my_chroma_db',\n",
    "    collection_name='sample'\n",
    ")"
   ]
  },
  {
   "cell_type": "code",
   "execution_count": null,
   "id": "b8b45a8b",
   "metadata": {},
   "outputs": [],
   "source": [
    "# add docs\n",
    "vector_store.add_documents(documents=docs, ids = ids)"
   ]
  },
  {
   "cell_type": "code",
   "execution_count": null,
   "id": "519ca368",
   "metadata": {},
   "outputs": [],
   "source": [
    "detail = vector_store.get(include=['embeddings','metadatas', 'documents',])\n",
    "print(detail['embeddings'])\n",
    "print(detail['documents'])\n",
    "print(detail['metadatas'])\n",
    "print(detail['ids'])"
   ]
  },
  {
   "cell_type": "code",
   "execution_count": null,
   "id": "4d871695",
   "metadata": {},
   "outputs": [],
   "source": [
    "data1 = vector_store.similarity_search(\n",
    "    query='Who is multiple double centuries among them?',\n",
    "    k = 1,\n",
    "    # filter={'team': 'Royal Challengers Bangalore'}\n",
    "    filter=None\n",
    ")\n",
    "data2 = vector_store.similarity_search_with_score(\n",
    "    query='Who is multiple double centuries among them?',\n",
    "    k = 5,\n",
    "    # filter={'team': 'Royal Challengers Bangalore'}\n",
    "    filter=None\n",
    ")\n",
    "print(data2)"
   ]
  },
  {
   "cell_type": "code",
   "execution_count": null,
   "id": "250e080a",
   "metadata": {},
   "outputs": [],
   "source": [
    "# update doc\n",
    "update_doc1 = Document(\n",
    "    page_content='Virat Kohli is an iconic Indian cricketer known for his passion, fitness, and match-winning abilities.',\n",
    "    metadata=doc1.metadata\n",
    ")\n",
    "vector_store.update_document(document_id='1', document=update_doc1)\n",
    "vector_store.get(ids='1')\n",
    "vector_store.similarity_search_with_score(\n",
    "    query='Who is iconic cricketer among them?',\n",
    "    k = 5,\n",
    "    # filter={'team': 'Royal Challengers Bangalore'}\n",
    "    filter=None\n",
    ")"
   ]
  }
 ],
 "metadata": {
  "kernelspec": {
   "display_name": "venv",
   "language": "python",
   "name": "python3"
  },
  "language_info": {
   "codemirror_mode": {
    "name": "ipython",
    "version": 3
   },
   "file_extension": ".py",
   "mimetype": "text/x-python",
   "name": "python",
   "nbconvert_exporter": "python",
   "pygments_lexer": "ipython3",
   "version": "3.13.5"
  }
 },
 "nbformat": 4,
 "nbformat_minor": 5
}
