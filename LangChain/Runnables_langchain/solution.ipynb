{
 "cells": [
  {
   "cell_type": "code",
   "execution_count": 74,
   "id": "8187fad5",
   "metadata": {},
   "outputs": [],
   "source": [
    "from abc import ABC, abstractmethod\n",
    "class Runnable(ABC):\n",
    "    @abstractmethod\n",
    "    def invoke(self,input_data):\n",
    "        raise NotImplementedError(\"Can't implement\")"
   ]
  },
  {
   "cell_type": "code",
   "execution_count": 75,
   "id": "039928e5",
   "metadata": {},
   "outputs": [],
   "source": [
    "import random\n",
    "class NakliLLM(Runnable):\n",
    "\n",
    "    def __init__(self):\n",
    "        print('LLM created')\n",
    "\n",
    "    def invoke(self, prompt):\n",
    "        response_list = [\n",
    "            'Delhi is capital of India',\n",
    "            'IPL is a cricket league',\n",
    "            'AI stands for artificial intelligence'\n",
    "        ]\n",
    "        return {\n",
    "            'response' : random.choice(response_list)\n",
    "        }\n",
    "    def predict(self,prompt):\n",
    "\n",
    "        response_list = [\n",
    "            'Delhi is capital of India',\n",
    "            'IPL is a cricket league',\n",
    "            'AI stands for artificial intelligence'\n",
    "        ]\n",
    "        print('This method is deprecated')\n",
    "        return {\n",
    "            'response' : random.choice(response_list)\n",
    "        }"
   ]
  },
  {
   "cell_type": "code",
   "execution_count": 76,
   "id": "04d7569f",
   "metadata": {},
   "outputs": [
    {
     "name": "stdout",
     "output_type": "stream",
     "text": [
      "LLM created\n"
     ]
    },
    {
     "data": {
      "text/plain": [
       "{'response': 'IPL is a cricket league'}"
      ]
     },
     "execution_count": 76,
     "metadata": {},
     "output_type": "execute_result"
    }
   ],
   "source": [
    "llm = NakliLLM()\n",
    "# llm.predict('What is capital of India?')\n",
    "llm.invoke('What is capital of India?')\n"
   ]
  },
  {
   "cell_type": "code",
   "execution_count": 77,
   "id": "46742821",
   "metadata": {},
   "outputs": [],
   "source": [
    "class NakliPromptTemplate(Runnable):\n",
    "    def __init__(self, template, input_variables):\n",
    "        self.template = template\n",
    "        self.input_variables = input_variables\n",
    "\n",
    "    def invoke(self, input_dict):\n",
    "        return self.template.format(**input_dict)\n",
    "\n",
    "    def format(self, input_dict):\n",
    "        print('This method is deprecated')\n",
    "        return self.template.format(**input_dict)\n",
    "    "
   ]
  },
  {
   "cell_type": "code",
   "execution_count": 78,
   "id": "1018e9c6",
   "metadata": {},
   "outputs": [
    {
     "name": "stdout",
     "output_type": "stream",
     "text": [
      "This method is deprecated\n",
      "LLM created\n"
     ]
    },
    {
     "data": {
      "text/plain": [
       "{'response': 'Delhi is capital of India'}"
      ]
     },
     "execution_count": 78,
     "metadata": {},
     "output_type": "execute_result"
    }
   ],
   "source": [
    "template = NakliPromptTemplate(\n",
    "    template='Write a {length} poem about {topic} ',\n",
    "    input_variables=['topic','length' ]\n",
    ")\n",
    "prompt = template.format({'length' : 'short','topic' : 'India'})\n",
    "llm = NakliLLM()\n",
    "llm.invoke(prompt=prompt)\n",
    "# llm.predict(prompt=prompt)"
   ]
  },
  {
   "cell_type": "code",
   "execution_count": null,
   "id": "29e4f53d",
   "metadata": {},
   "outputs": [],
   "source": [
    "class RunnableConnector(Runnable):\n",
    "    def __init__(self, runnable_list):\n",
    "        self.runnable_list = runnable_list\n",
    "\n",
    "    def invoke(self, input_data):\n",
    "        for runnable in self.runnable_list:\n",
    "           input_data = runnable.invoke(input_data)\n",
    "        return input_data"
   ]
  },
  {
   "cell_type": "code",
   "execution_count": 80,
   "id": "71510de1",
   "metadata": {},
   "outputs": [],
   "source": [
    "class NakliStrOutParser(Runnable):\n",
    "    def __init__(self):\n",
    "        pass\n",
    "    def invoke(self, input_data):\n",
    "        return input_data['response']"
   ]
  },
  {
   "cell_type": "code",
   "execution_count": 81,
   "id": "e0865f08",
   "metadata": {},
   "outputs": [
    {
     "name": "stdout",
     "output_type": "stream",
     "text": [
      "LLM created\n"
     ]
    }
   ],
   "source": [
    "template = NakliPromptTemplate(\n",
    "    template='Write a {length} poem about {topic} ',\n",
    "    input_variables=['topic','length' ]\n",
    ")\n",
    "llm = NakliLLM()\n",
    "parser = NakliStrOutParser()"
   ]
  },
  {
   "cell_type": "code",
   "execution_count": 82,
   "id": "9df943a7",
   "metadata": {},
   "outputs": [
    {
     "data": {
      "text/plain": [
       "'Delhi is capital of India'"
      ]
     },
     "execution_count": 82,
     "metadata": {},
     "output_type": "execute_result"
    }
   ],
   "source": [
    "chain = RunnableConnector([template, llm, parser])\n",
    "chain.invoke({'length' : 'long','topic' : 'India'})"
   ]
  },
  {
   "cell_type": "code",
   "execution_count": 83,
   "id": "b2d330fa",
   "metadata": {},
   "outputs": [
    {
     "name": "stdout",
     "output_type": "stream",
     "text": [
      "LLM created\n"
     ]
    }
   ],
   "source": [
    "template1 = NakliPromptTemplate(\n",
    "    template='Write a joke about {topic}',\n",
    "    input_variables=['topic']\n",
    ")\n",
    "template2 = NakliPromptTemplate(\n",
    "    template='Explain the following joke {response}',\n",
    "    input_variables=['response']\n",
    ")\n",
    "llm = NakliLLM()\n",
    "parser = NakliStrOutParser()"
   ]
  },
  {
   "cell_type": "code",
   "execution_count": 84,
   "id": "593fe1dd",
   "metadata": {},
   "outputs": [],
   "source": [
    "chain1 = RunnableConnector([template1, llm])\n",
    "# chain1.invoke({'topic': 'AI'})"
   ]
  },
  {
   "cell_type": "code",
   "execution_count": 85,
   "id": "4f071274",
   "metadata": {},
   "outputs": [],
   "source": [
    "chain2 = RunnableConnector([template2, llm, parser])\n",
    "# chain2.invoke({'response' : 'This is a joke'})"
   ]
  },
  {
   "cell_type": "code",
   "execution_count": 86,
   "id": "84afcebc",
   "metadata": {},
   "outputs": [
    {
     "data": {
      "text/plain": [
       "'AI stands for artificial intelligence'"
      ]
     },
     "execution_count": 86,
     "metadata": {},
     "output_type": "execute_result"
    }
   ],
   "source": [
    "final_chain = RunnableConnector([chain1, chain2])\n",
    "final_chain.invoke({'topic' : 'cricket'})"
   ]
  },
  {
   "cell_type": "code",
   "execution_count": null,
   "id": "af85619e",
   "metadata": {},
   "outputs": [],
   "source": []
  }
 ],
 "metadata": {
  "kernelspec": {
   "display_name": "venv",
   "language": "python",
   "name": "python3"
  },
  "language_info": {
   "codemirror_mode": {
    "name": "ipython",
    "version": 3
   },
   "file_extension": ".py",
   "mimetype": "text/x-python",
   "name": "python",
   "nbconvert_exporter": "python",
   "pygments_lexer": "ipython3",
   "version": "3.13.5"
  }
 },
 "nbformat": 4,
 "nbformat_minor": 5
}
